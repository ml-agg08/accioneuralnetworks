{
  "nbformat": 4,
  "nbformat_minor": 0,
  "metadata": {
    "colab": {
      "provenance": [],
      "gpuType": "T4"
    },
    "kernelspec": {
      "name": "python3",
      "display_name": "Python 3"
    },
    "language_info": {
      "name": "python"
    },
    "accelerator": "GPU"
  },
  "cells": [
    {
      "cell_type": "code",
      "source": [
        "import torch #for creating tensor objects, backprop etc\n",
        "import torch.nn.functional as F #for one_hot"
      ],
      "metadata": {
        "id": "_L_w2XSn1UM8"
      },
      "execution_count": 2,
      "outputs": []
    },
    {
      "cell_type": "code",
      "execution_count": 3,
      "metadata": {
        "id": "jyZRUEOB0oZq"
      },
      "outputs": [],
      "source": [
        "word = [\n",
        "    \"aarav\", \"vivaan\", \"aditya\", \"vihaan\", \"ishaan\", \"arjun\", \"sai\", \"ayaan\", \"krishna\", \"rohan\",\n",
        "    \"reyansh\", \"shiv\", \"mohit\", \"karthik\", \"lakshman\", \"siddharth\", \"manish\", \"vishal\", \"vivek\", \"rahul\",\n",
        "    \"manav\", \"nikhil\", \"kunal\", \"anish\", \"yash\", \"abhinav\", \"pranav\", \"amit\", \"gaurav\", \"ravi\",\n",
        "    \"raj\", \"surya\", \"harsh\", \"tushar\", \"akash\", \"parth\", \"raghav\", \"ramesh\", \"ankit\", \"suresh\",\n",
        "    \"pritam\", \"prem\", \"himesh\", \"ashwin\", \"dhruv\", \"sandeep\", \"vikas\", \"ajay\", \"anil\", \"madhav\",\n",
        "    \"deepak\", \"bhuvan\", \"ashok\", \"ram\", \"shivansh\", \"nitin\", \"saurabh\", \"udit\", \"shaurya\", \"manoj\",\n",
        "    \"chirag\", \"kiran\", \"amitabh\", \"nashit\", \"siddhi\", \"ritika\", \"ananya\", \"priya\", \"aishwarya\", \"sneha\",\n",
        "    \"radhika\", \"meera\", \"swati\", \"pooja\", \"shruti\", \"simran\", \"nisha\", \"sanya\", \"kavya\", \"madhuri\",\n",
        "    \"neha\", \"jaya\", \"mitali\", \"sonali\", \"laxmi\", \"vidya\", \"komal\", \"shalini\", \"tanu\", \"shreya\",\n",
        "    \"nupur\", \"isha\", \"rupa\", \"divya\", \"ritu\", \"vandana\", \"pragya\", \"suman\", \"deepika\", \"manju\",\n",
        "    \"shweta\", \"vaishnavi\", \"parul\", \"gayatri\", \"aarti\", \"tanvi\", \"chhavi\", \"anju\", \"tanisha\", \"sakshi\",\n",
        "    \"simran\", \"sonal\", \"ravina\", \"meenal\", \"aarti\", \"shivani\", \"ankita\", \"kiran\", \"yamini\", \"sonalika\"\n",
        "]\n",
        "\n",
        "#A list of strings; chatgpt generated these kerala origin names to train the model"
      ]
    },
    {
      "cell_type": "code",
      "source": [
        "import string\n",
        "chars=list(string.ascii_lowercase)\n",
        "stoi={s:i+1 for i,s in enumerate(chars)}\n",
        "stoi['.']=0\n",
        "itos={i+1:s for i,s in enumerate(chars)}\n",
        "itos[0]=\".\"\n",
        "\n",
        "#since indexing is based on integers from 0 to 1,2,3.... we map each alphabet to an integer in that order itself"
      ],
      "metadata": {
        "id": "4ZdnRtKP0vJA"
      },
      "execution_count": 4,
      "outputs": []
    },
    {
      "cell_type": "code",
      "source": [
        "x=[]\n",
        "xi=[]\n",
        "y=[]\n",
        "yi=[]\n",
        "for w in word:\n",
        "  w='.'+w+'.'\n",
        "  for i in zip(w,w[1:]):\n",
        "    x.append(i[0])\n",
        "    xi.append(stoi[i[0]])\n",
        "    y.append(i[1])\n",
        "    yi.append(stoi[i[1]])\n",
        "\n",
        "#using zip we create bigraphs and thus generating i/p and o/p labels"
      ],
      "metadata": {
        "id": "DPxKX8Yv1J1k"
      },
      "execution_count": 5,
      "outputs": []
    },
    {
      "cell_type": "code",
      "source": [
        "xi=torch.tensor(xi)\n",
        "yi=torch.tensor(yi)\n",
        "#creating tensor objects"
      ],
      "metadata": {
        "id": "NuBdx6SZ1Oux"
      },
      "execution_count": 6,
      "outputs": []
    },
    {
      "cell_type": "code",
      "source": [
        "xenc = F.one_hot(xi, num_classes=27).float() #for more efficient working of model, we use one_hat for classes"
      ],
      "metadata": {
        "id": "EULWHPfE1WKM"
      },
      "execution_count": 7,
      "outputs": []
    },
    {
      "cell_type": "code",
      "source": [
        "W = torch.randn((27, 27),requires_grad=True) #since its a single layer nn with 27 neruons we need a 27x27 weight matrix"
      ],
      "metadata": {
        "id": "yj3OtdUl1Zcz"
      },
      "execution_count": 8,
      "outputs": []
    },
    {
      "cell_type": "code",
      "source": [
        "#forward pass matrix multiplication (we use @ for product)\n",
        "logits=xenc@W\n",
        "counts=logits.exp()\n",
        "probs=counts/counts.sum(dim=1,keepdim=True)\n",
        "probs.shape\n",
        "\n",
        "#here we consider cross entropy loss, basically sum of negative logs of each predicted probability values corresponding to actual labels (we already have them for training set)\n",
        "nlls=torch.zeros(len(yi))\n",
        "j=0\n",
        "for i in yi:\n",
        "  loss=torch.log(probs[j,i])\n",
        "  nlls[j]=-loss\n",
        "  j+=1\n",
        "\n",
        "print('=========')\n",
        "print('average negative log likelihood, i.e. loss =', nlls.mean().item())\n",
        "LOSS=nlls.mean()"
      ],
      "metadata": {
        "colab": {
          "base_uri": "https://localhost:8080/"
        },
        "id": "_tj6g_181bDd",
        "outputId": "570e8114-2cde-43a6-a609-cac53f405f33"
      },
      "execution_count": 9,
      "outputs": [
        {
          "output_type": "stream",
          "name": "stdout",
          "text": [
            "=========\n",
            "average negative log likelihood, i.e. loss = 3.606201171875\n"
          ]
        }
      ]
    },
    {
      "cell_type": "code",
      "source": [
        "W.grad=None\n",
        "LOSS.backward()\n",
        "#backprop to calculate gradients of each weights like how they affect the final loss"
      ],
      "metadata": {
        "id": "Cl0qkIi31dWw"
      },
      "execution_count": 10,
      "outputs": []
    },
    {
      "cell_type": "code",
      "source": [
        "#conducting various epochs and using manual gradient descent to converge to min loss and get corresponding wieghts\n",
        "alpha=1\n",
        "for i in range(10):\n",
        "  W.data+=-alpha*W.grad\n",
        "\n",
        "  #forward pass\n",
        "  logits=xenc@W\n",
        "  counts=logits.exp()\n",
        "  probs=counts/counts.sum(dim=1,keepdim=True)\n",
        "  probs.shape\n",
        "\n",
        "  nlls=torch.zeros(len(yi))\n",
        "  j=0\n",
        "  for i in yi:\n",
        "    loss=torch.log(probs[j,i])\n",
        "    nlls[j]=-loss\n",
        "    j+=1\n",
        "\n",
        "  print('=========')\n",
        "  print('average negative log likelihood, i.e. loss =', nlls.mean().item()+0.01*(W**2).mean())\n",
        "  LOSS=nlls.mean()+0.01*(W**2).mean()"
      ],
      "metadata": {
        "id": "ybv8BCk51iZP",
        "colab": {
          "base_uri": "https://localhost:8080/"
        },
        "outputId": "d60fa584-d10c-4605-b605-33c8752ddf17"
      },
      "execution_count": 11,
      "outputs": [
        {
          "output_type": "stream",
          "name": "stdout",
          "text": [
            "=========\n",
            "average negative log likelihood, i.e. loss = tensor(3.6042, grad_fn=<AddBackward0>)\n",
            "=========\n",
            "average negative log likelihood, i.e. loss = tensor(3.5912, grad_fn=<AddBackward0>)\n",
            "=========\n",
            "average negative log likelihood, i.e. loss = tensor(3.5783, grad_fn=<AddBackward0>)\n",
            "=========\n",
            "average negative log likelihood, i.e. loss = tensor(3.5655, grad_fn=<AddBackward0>)\n",
            "=========\n",
            "average negative log likelihood, i.e. loss = tensor(3.5529, grad_fn=<AddBackward0>)\n",
            "=========\n",
            "average negative log likelihood, i.e. loss = tensor(3.5404, grad_fn=<AddBackward0>)\n",
            "=========\n",
            "average negative log likelihood, i.e. loss = tensor(3.5280, grad_fn=<AddBackward0>)\n",
            "=========\n",
            "average negative log likelihood, i.e. loss = tensor(3.5158, grad_fn=<AddBackward0>)\n",
            "=========\n",
            "average negative log likelihood, i.e. loss = tensor(3.5036, grad_fn=<AddBackward0>)\n",
            "=========\n",
            "average negative log likelihood, i.e. loss = tensor(3.4917, grad_fn=<AddBackward0>)\n"
          ]
        }
      ]
    },
    {
      "cell_type": "code",
      "source": [
        "g = torch.Generator().manual_seed(2147483647)\n",
        "for i in range(100):\n",
        "  out =[]\n",
        "  ix=0\n",
        "  while True:\n",
        "    inputencode=F.one_hot(torch.tensor([ix]),num_classes=27).float()\n",
        "    logits=inputencode@W\n",
        "    counts=logits.exp()\n",
        "    p=counts/counts.sum(1,keepdims=True)\n",
        "\n",
        "    ix = torch.multinomial(p, num_samples=1, replacement=True, generator=g).item()\n",
        "    out.append(itos[ix])\n",
        "    if ix == 0:\n",
        "      break\n",
        "  print(out)\n",
        "\n",
        "  #testing yayyy !!\n",
        ""
      ],
      "metadata": {
        "id": "uqntSCrV1mZ8",
        "colab": {
          "base_uri": "https://localhost:8080/"
        },
        "outputId": "cf156c36-00ac-4801-c7eb-4a339721afcf"
      },
      "execution_count": 12,
      "outputs": [
        {
          "output_type": "stream",
          "name": "stdout",
          "text": [
            "['j', 'u', 'p', 'i', 'd', 'w', 'd', 'i', 'l', 'k', 'p', 'q', 'a', 'h', 'h', 'p', 'f', 'o', 'f', 'r', 'o', 'w', 'e', 'i', 'n', 'w', 'a', '.']\n",
            "['s', 'h', 'i', 'n', 'w', 't', 'o', 'h', 'e', 'k', 'g', 'i', 'f', 'r', 'h', 'z', 'y', '.']\n",
            "['d', 'a', 'n', 'n', 'p', 'a', 'u', 'r', 'x', 'm', 'i', 'l', 'e', 'v', 'h', 'a', 'c', 'f', 'd', 'b', 'y', 'n', 'i', 'n', 'r', 'w', 'i', 'f', 'o', 'r', 'c', 's', 'n', 'j', 'y', 'i', 'e', 'v', 'y', '.']\n",
            "['a', 'r', 't', 'z', 'y', 'f', 'f', 'r', 'm', 'u', 'p', 'c', 'h', 'a', 'f', 'o', 'e', 't', 'u', 'p', 'f', 'r', 'p', 'f', 'f', 'o', 's', 'z', 'w', 'a', 'h', 'e', 'j', 'a', 'n', 'q', 'u', 'r', 'o', 'r', 'o', 'a', 'y', 'x', 'e', 'p', 'o', 'c', 'f', 'z', 'y', '.']\n",
            "['s', 'a', 'b', 'w', 'i', 'w', 'e', 'j', 'n', 'm', 'y', 'i', 'f', 'm', 'w', 'y', 'n', 'f', 'r', 'p', 'a', 'n', 'c', 'p', 's', 'n', 'h', 'm', 'v', 'f', 'i', 'h', 'o', 'u', 's', 'z', 'x', 'h', 'f', 'd', 'g', 'o', 'r', 'f', 'z', 'x', 'n', 'y', 'n', 'c', 'i', 'l', 'm', 'l', 'e', 'j', 'n', 'h', 'u', 'p', 'c', 'd', 'y', 'm', 't', '.']\n",
            "['j', 'y', 'n', 'r', 'k', 'r', 'u', '.']\n",
            "['i', 'd', 'u', 'p', 'f', 'y', 'm', 'y', '.']\n",
            "['m', 'j', 'e', 'k', 'u', 'j', 'c', 'b', 'z', 'h', 'v', 'u', 'p', 'w', 'y', 'h', 'l', 'p', 'c', 'h', 'v', 'c', 'c', 'f', 'a', 'r', 'o', 'r', 'o', 't', 'k', 'h', 'w', 'e', 'f', 'o', 'r', 't', 'a', '.']\n",
            "['m', 'p', 'c', 'y', 'r', 'o', 'j', 'n', 'l', 'h', 'h', 'u', 'u', 'i', '.']\n",
            "['z', 'q', 'u', 'j', 'p', 'o', 'a', 'b', 'z', 't', 'h', 'e', 'm', 'i', 'd', 'a', 'n', 'q', 'w', 'a', 'k', 'h', 'f', '.']\n",
            "['p', 'n', 'd', 'x', 'm', 'k', 'f', 'z', 'x', 's', 'h', 'p', 't', 'q', 't', 'u', 'p', 'z', 'a', 'l', 'e', 'e', 'v', 'p', 'r', 'o', 'n', 'u', 'n', 'c', 'b', 'w', 'k', 'f', 'l', 'm', 'l', 's', 'h', 'e', 'k', 'r', 'h', 'h', 'a', 'n', 'e', 'a', 'r', 'c', 'h', 'w', 'e', 'm', 'u', 'r', 'c', 'h', 'o', 'd', 'y', 'i', 'd', 'c', 'd', 'z', 'q', 'd', 'j', 'b', 'a', 'l', 'i', 'd', 'p', 'f', 'r', 'g', 'c', 'i', '.']\n",
            "['t', '.']\n",
            "['z', 'r', 'h', 'l', 'e', 'l', 'i', 't', 'q', 'v', 'y', 'w', 'h', 'q', 'e', 'l', 'v', 'k', 'v', 'k', 'h', 'l', 'k', 'h', 'i', 'b', 'w', 'a', 'n', 'c', 'f', 'o', 'j', 'z', 't', 'z', 'm', 'w', 'b', 'x', 's', 'c', 'p', 'b', 'z', 'w', 'i', 'n', 'w', 'v', 'n', 'w', 'a', 'k', 'i', 'f', 'o', 'x', 'c', 'p', 'w', 'b', '.']\n",
            "['s', 'g', 'y', 'e', 'w', 'f', 'f', 'r', 'c', 'b', 'c', 'c', 'x', 'n', 'v', 'm', 'y', 'n', 'k', 'm', 'y', 'b', 'w', 'a', 'n', 'm', 'j', 'b', 'd', 's', 'w', 'e', 'v', 't', '.']\n",
            "['f', 'o', 'k', 't', 'k', 'g', 'd', 'e', 'p', 'i', 'h', 'z', 'q', 'd', 'z', 'y', 'r', 'd', 'z', 'y', '.']\n",
            "['v', 'k', 'u', 'o', 'r', 'o', 'n', 'a', 's', 'r', 't', 'u', 'r', 't', 'x', 'b', 'u', 'q', 't', 'u', 'r', 'f', 'd', 't', 'p', 'a', 'k', 'e', 'q', 'j', 't', 'p', 'a', 'l', 'k', 'n', 'd', 'f', 'r', 'd', 'w', 'e', 'p', 's', 'p', 'p', 'c', 'h', 'l', 'm', 'a', 'k', 'v', 'l', 'o', 'k', 'g', 'y', '.']\n",
            "['l', 'e', 'f', 'r', 'd', 'm', 'k', 'f', 'f', '.']\n",
            "['m', 'f', 's', 'z', 'x', 'm', 'w', '.']\n",
            "['v', 'b', '.']\n",
            "['h', 'k', 'v', 'k', 'g', 'g', 'i', 'j', 'v', 'k', 'm', 'w', 'y', 'n', 'h', 'v', 'c', 'x', 'n', '.']\n",
            "['u', 'r', 'k', 'e', 'i', 'h', 'w', 'g', 't', 'j', 'v', 'n', 'w', 'e', 'g', 'f', 'z', 't', 'k', 'f', 'o', 'v', 'r', 'o', 'f', 'r', 'l', 's', 'g', 'l', 'd', 'i', 'd', 'z', 'w', 'e', 'p', 'h', 'm', 'n', 'q', 't', 'u', 'r', 'o', 'y', 'y', '.']\n",
            "['i', 'f', 's', 'g', 'i', 'r', 'c', 'd', 'x', 'r', 'x', 'i', 'f', 'r', 'g', 'k', 'x', 'n', 'v', 'z', 'y', 'p', 'n', 'y', 'n', 'y', 'x', 'd', 'a', 'k', 'u', 'j', 'n', 'h', 'k', 'v', 'y', 'c', 'v', 'a', 't', 'p', 'a', 'r', 'y', 'x', 'e', 'l', 'k', 'x', 'c', 'b', 'r', 'l', 'r', 'j', 's', 'p', 'a', 'p', 'f', '.']\n",
            "['b', 'w', 'a', 'k', 'f', 'o', 'e', 'j', 'b', 'i', 'd', 'w', 'p', 'q', 'n', 'x', 'r', 'k', 'h', 'h', 'h', 'h', 'h', 's', 'i', 'd', 'z', 'j', 'b', 'z', 'n', 'k', 'l', 'm', 'o', 'i', 'd', 'w', 'b', 'u', 'p', 'a', 'k', 'e', 'z', 'f', 'z', 'f', 'z', 'y', 'n', 'w', 's', 'u', 'r', 'r', 'v', 'v', 'c', 'g', 'a', 'o', 'a', 'd', 'a', 'y', 'r', 'g', 'd', 'f', 'b', 'w', 'c', 'q', 'd', 'o', 'u', 'o', 'e', 'y', 't', 'o', 'v', 'b', 'z', 'q', 'z', 's', 'z', 'q', 'd', 'a', 'n', 'c', 'h', 'l', 'n', 'y', 'k', 'v', 'h', 'e', 't', 's', 'u', 'l', 'e', 'k', 'p', 'c', 'x', 'n', 'a', 'k', 'f', 'r', 'o', 'i', 'n', 'z', 'a', 'k', 'v', 'w', 'o', 'j', 't', 'c', 'y', 'o', 'n', 'a', 'k', 'i', 'f', 'r', 'o', 'r', 'h', 'p', 'z', 'w', 'w', 'e', 'k', 'x', 'i', 'd', 'f', 'r', 'c', 'd', 'a', 's', 'f', 'k', 'f', 'f', 'o', 'l', 'j', 'y', 'g', 'k', 'j', 'n', 'h', 'm', 'f', 'o', 'a', 'n', 'f', 'k', 'm', 'y', 'n', 'h', 'v', 'k', 'u', 'l', 'a', '.']\n",
            "['o', 'v', 'y', 'x', 'b', '.']\n",
            "['d', 'y', 'h', 'h', 'h', 'm', 'w', 'c', 'q', 'h', 'e', 'u', 'f', 'o', 'a', 's', 'w', 'z', 'h', 'k', 's', 'u', 'f', 'z', 'q', 'n', 'h', 'k', 'r', 'k', 'v', 'k', 'm', 'o', 'r', 'o', 'i', 'd', 'w', 'm', 'l', 'q', 'h', 'k', 'g', 'i', 't', 'x', 'd', 'w', 'a', 'k', 'v', 'k', 'e', 'i', 'k', 'b', '.']\n",
            "['v', 'k', 'y', 'x', 'v', 't', 'j', 'y', '.']\n",
            "['m', 'l', 's', 'c', 't', '.']\n",
            "['t', 'p', 'c', 'b', 'w', 'a', 'n', 'w', 'l', 'i', 'g', 'g', 'h', 'g', 'q', 'z', 'd', 'o', 'k', 'v', 'u', 'v', 'h', 'p', 'f', 'b', 'w', 'e', 'i', 'l', 'p', 'u', 'r', 'k', 'p', 'a', '.']\n",
            "['p', 'h', 'h', 'n', 'x', 'e', 'h', 'u', 'p', 'o', 'w', 'c', 'h', 'l', 'i', 'p', 'q', 'z', 'y', 'm', 'g', 'p', 'c', 'i', 'l', 'e', 'g', 'k', 'n', 'w', 'm', 'h', 'd', 'z', 'f', 'o', 'q', 'z', 'y', 's', 'd', 'i', 'i', 'o', 'r', 'v', 'k', 'c', 's', 'u', 'r', 't', '.']\n",
            "['z', 'y', '.']\n",
            "['a', 'n', 'd', 'z', 'y', 'b', '.']\n",
            "['o', 'r', 'a', 'h', 'm', 'k', 't', 'w', 'b', 'w', 'e', 'v', 'k', 'f', 'o', '.']\n",
            "['d', 'w', 'o', 'k', 'f', 'z', 'f', 'r', 'i', 't', 'd', 'p', 's', 'w', 'c', 'x', 'g', 'k', 'm', 'k', 'm', 'w', 'c', 'p', 'f', 'f', 'r', 'i', 'o', 'm', 'y', 'm', 'p', 'c', 'h', 'v', 'u', 'r', 'h', 'k', 'z', 'y', 's', 'g', 'f', 'h', 'k', 'v', 'k', '.']\n",
            "['e', 'k', 'v', 'h', 'g', 'f', 'f', 'f', 'i', 'f', 'a', 'k', 'f', 'c', 'i', 'k', 'r', 'h', 'e', 'g', 'i', 's', 'k', 'r', 'a', 'n', 'f', 'r', 'o', 'a', 'b', 'z', 'd', 'w', 'm', 'w', 'v', 'k', 'm', 'b', 'g', 'g', 'd', 'w', 'v', 'd', 'x', 'm', 'y', 'c', 'x', 'g', 'i', 's', 'z', 't', '.']\n",
            "['a', 'l', 'm', 'y', 'm', 'p', 'e', 'j', 'm', 'y', 'x', 'b', 'g', 'g', 'f', 'z', 'y', '.']\n",
            "['o', 'r', 'h', 'e', 'p', 'r', 't', 'j', 'n', 'w', 'x', 'n', 'w', 'q', 'x', 'e', 'k', 'k', 'm', 'g', 'x', 'c', 'e', 'y', 'b', 'g', 'o', 'r', 't', 'u', 'c', 'y', 't', '.']\n",
            "['n', 'w', 'k', 'v', 'c', 'q', 'z', 't', 'e', 'p', 'q', 'e', 'v', 'k', 'x', 'r', 'c', 'u', 'r', 'n', 'x', 'v', 'k', 's', 'u', 'q', 'd', 'c', 'x', 'i', 'd', 'y', 'o', 'h', 'm', 'a', 'n', 'n', 'y', 'o', 'r', 'o', 'r', 'o', 'a', 'p', '.']\n",
            "['y', '.']\n",
            "['y', '.']\n",
            "['a', 'n', 'd', 'e', 'g', 'a', 'v', 'b', 'n', 'y', 'x', 'n', 'd', 't', 'q', 'h', 'c', 'o', 'p', 'c', 'y', 'n', 'w', 'p', 'f', 'l', 'm', 'a', 'e', 'p', 'k', 'y', '.']\n",
            "['s', 'z', 'i', 'j', 'n', 'q', 'z', 'm', 'y', 'p', 'n', 'e', 'v', 'w', 'f', 'w', 'c', 'y', '.']\n",
            "['l', 'k', 't', 'u', 's', 'r', 'g', 't', 'q', 'l', 'k', 'u', 'q', 'i', 'y', 'o', 'y', 'h', 'a', 'k', 'f', 'o', 'i', 'd', 'k', 'i', 'm', 't', '.']\n",
            "['a', 'k', 'g', 's', 'c', 'y', '.']\n",
            "['o', 'h', 'p', 'q', 'z', 'b', 'u', 'v', 'k', 'i', 'i', 'f', 'o', 'j', 'n', 'd', 'x', 'e', 'z', 'q', 'h', 'q', 'd', 'u', 'p', 'c', 'f', 'z', 'z', 'c', 'd', 'u', 'f', '.']\n",
            "['f', 'm', 'y', 'x', 'c', 'y', 'k', 'q', 'j', 'n', 'n', 'h', 'l', 'm', 'l', 'e', 'g', 'i', 'n', 'h', 'k', 'i', 'd', 's', 'p', 'i', 'z', 'd', 'e', 'v', 'k', 'f', 's', 'k', 'v', 'h', 'm', 'l', 'n', 'p', 'z', 'c', 'w', 'e', 'h', 'm', 'n', 'c', 'd', 'z', 'f', 'w', 'o', 'j', 'c', 'd', 'i', '.']\n",
            "['i', 'j', 'b', 'g', 'g', 'd', 'x', 'i', 'f', 'z', 't', 'p', 'i', 'n', 'w', 'a', 'k', 'z', 'y', 'b', 'b', 'w', 'c', 'i', 'd', 'z', 'y', 'n', 'v', 'h', 'p', 'h', 'p', 'c', 'h', 'h', 'v', 'l', 'a', 'r', 'l', 'm', 'b', 'g', 'v', 'k', 'v', 'b', 'b', 'h', 't', 'a', 'e', 'z', 'q', 'z', 'y', 'e', 'p', 'c', 'z', 'e', 'p', 'w', 'e', 'k', 'g', 'c', 'd', 'n', 'u', 'f', 'b', 'c', 'd', 'w', 'o', 'b', 'q', 'a', 'g', 'a', 'o', 'j', 'n', 'c', 'd', 'f', 'k', 'f', 'o', 'j', 'o', 'q', 'u', 't', 'h', 'l', 'a', 'n', 'c', 'f', 'm', 'y', 'x', '.']\n",
            "['c', 'o', 'a', 'n', 'v', 'x', 'l', 'e', 'c', 'f', 'r', 'u', 'q', 't', 'z', 'f', 'r', 'o', 'l', 'k', 'x', 'e', 'p', 'a', 'v', 'k', 'f', 'r', 'k', 'e', 'l', 'u', 'p', 'a', 'r', 'e', 'e', 'p', 'p', 'a', 'o', 'c', 'f', 'v', 'k', 'g', 'g', 't', '.']\n",
            "['n', 'v', 'v', 'c', 'z', 'a', 'd', 'a', 'r', 'x', 'c', 'f', '.']\n",
            "['s', 'z', 'y', 'r', 'h', 'j', 'd', 'x', 'e', 'p', 'q', 'h', 'k', '.']\n",
            "['o', 'e', 'i', 'k', 'i', 'i', 'j', 'o', 't', 'q', 'd', 'i', 's', 'y', 'x', 'l', 'z', 't', 'z', 'w', '.']\n",
            "['n', 'w', 'v', 'c', 'h', 'z', 'h', 'o', 'c', 'x', 'l', 'h', 'l', 'm', 'y', 'b', 'a', 'n', 'h', 'w', 'i', 'g', 'e', 'e', 'g', 'g', 'f', 'f', 'q', 'z', '.']\n",
            "['n', 'y', 'q', 'z', 't', 'o', 'o', 'q', 'd', 'z', 'q', 'm', 'l', 'm', 'n', 'b', 'y', 'x', 'r', 'v', 's', 'h', 'a', 'k', 'o', 'r', 'g', 'j', 'l', 'e', 'o', '.']\n",
            "['n', 'h', '.']\n",
            "['e', 'i', 'd', 's', 'c', 'b', 'y', 'd', 'n', 'h', 'f', 'o', 'i', 'f', 's', 'u', 'o', 'l', 'i', 'f', 'd', 'e', 'r', 'o', 'b', 'u', 'r', 'k', 'n', 'w', 'v', 'k', 'v', 'x', 'b', 'r', 'g', 'x', 'j', 'n', 'y', 'k', 'g', 'j', 'n', 'y', '.']\n",
            "['d', 'f', 'r', 'k', 'o', 'g', 'd', 'u', 'i', 'j', 'i', 'd', 'w', 'v', 'd', 'x', 'l', 'm', 'p', 'u', 't', 'l', 'n', 'y', '.']\n",
            "['m', 'y', 'x', 'i', 'z', 'e', 'u', 'n', 'y', 'r', 'n', 'a', 'o', 'i', 'n', 'y', 'h', 'p', '.']\n",
            "['l', 'f', 'c', 'x', 'm', 'k', 'f', 'x', 'c', 'f', 'p', 'j', 'd', 'o', 'e', 'p', 's', 'h', 'p', 'f', 'o', 'v', 'k', 'x', 'n', 'n', 'y', 'y', 'i', 'd', '.']\n",
            "['f', 'x', 'r', 'k', 's', 'b', 'y', 'b', 'w', 'f', 'x', 'j', 'k', 'f', 'w', 'i', 'j', 'c', 'x', 'b', 'w', 'm', 'k', 'e', 'k', 'f', 's', 'm', 'a', 'n', 'c', 'x', 'l', '.']\n",
            "['k', 'c', 'd', 'y', 'e', 'j', 'y', 'z', 'a', 'o', 'a', 'i', 'o', 'y', 'c', 'h', 'h', 'l', 'm', 'y', '.']\n",
            "['n', 'y', '.']\n",
            "['f', 'r', 'n', 'a', 'h', 'a', 'k', 'p', 't', 'u', 'r', 'o', 'a', '.']\n",
            "['m', 't', 'k', 'e', 's', 'k', 'v', 'b', 'y', 'x', 'l', 's', 'y', 'r', 'a', 'n', 'y', 'q', 'w', 'o', 'e', 'c', 'f', 'e', 'r', 'o', 'r', 'r', 'o', 'r', 'o', 'r', '.']\n",
            "['b', 'e', 'v', 'n', 'h', 'l', 'e', 'p', 'u', 'r', 'd', 'e', 'f', 'l', 'n', 'w', 'e', 'z', 'f', 'j', 'n', 'd', 'z', 'q', 'j', 'r', 'o', 'i', 'd', 'a', 'q', 't', 'a', 'n', 'w', 'v', 'k', 'e', 'e', 'p', 'i', 'o', 'r', 'o', 'a', 'v', 'k', 'p', 'l', 'h', 'i', 'd', 'c', 'n', 'w', 'f', 'r', 'o', 'u', 'p', 'c', 'b', 'q', 'u', 'f', 'l', 'i', 'd', 'e', 'f', 'o', 'n', 'y', '.']\n",
            "['d', '.']\n",
            "['v', 'q', 'z', 'q', 'd', 'b', 'y', '.']\n",
            "['f', 'o', 'k', 'x', 'y', 'j', 'x', 'd', 'y', 'x', 'n', 'j', 'y', 't', 't', 'f', 'l', 'k', 'e', 'r', 'o', 'l', '.']\n",
            "['s', 'w', 'c', 'z', 'e', 'b', 'y', 'r', 'p', 's', 'y', 'x', 'n', 'e', 'e', 'z', 'm', 'a', 'n', 'b', 'w', 'i', 'h', 'k', 'f', 'g', 'g', 'g', 'y', 'v', 'k', 'r', 'k', 'g', 'i', 'z', 'f', 'o', 'x', 'c', 'x', 's', 'k', 'x', 'm', 'c', 'm', 'h', 'h', 'u', 'h', 'j', 'r', 'x', 'c', 'y', 'd', 'r', 'j', 'c', 'w', 'o', 'a', 'n', 'c', 'h', 'e', 'k', 's', 'w', 'd', 'o', 'v', 't', 'z', 'f', 'z', 'y', 'n', 'w', 's', 'u', 'f', 'k', 'p', 'o', 'n', 'q', 'z', 'g', 'c', 'f', 'o', 'k', 'i', 'e', 'v', 'b', 'e', 'g', 'f', 'r', 'v', 'p', 'f', 'q', 'h', 'm', 'r', 'k', 'h', 'p', 'h', 'p', 'i', 'd', 'i', 'd', 'w', 'c', 'h', 'l', '.']\n",
            "['a', 's', 'z', 'n', 'c', 'r', 'i', 'n', 'y', 'r', 'p', 'f', 'u', 'r', 'z', 's', 'c', 'g', 'y', 'x', 'r', 'd', 'z', 'e', 'b', 'x', 'n', 'c', 'x', 'n', 'e', 'z', 'w', 'a', 'u', 'p', 'c', 'n', 'h', 'u', 'r', 'k', 'x', 'd', 's', 'h', 'l', 'm', 'v', 'r', 'c', 'g', '.']\n",
            "['z', 'q', 'g', 'f', 'o', 'q', 'c', 'b', 'w', 'k', 'm', 'y', 'u', 'h', 'a', 'n', 'y', '.']\n",
            "['v', 'q', 'h', 'l', 'a', 'n', 'c', 'd', 'z', 'q', 't', 'p', 's', 'z', 'q', 's', 'g', 'g', 'x', 'i', 'r', 'o', 'e', 'k', 'v', 'p', 'c', 'f', 'o', 'v', 'x', 'c', 'y', 'n', 'p', 'a', 'n', 'y', 'j', 'n', 'c', '.']\n",
            "['h', 'h', 'p', 't', 'p', 'f', 'r', 'o', 'u', 'q', 'a', 'b', 'e', 'e', 's', 'g', 'a', 's', 'u', 'd', 'w', 'y', '.']\n",
            "['z', 'w', 'd', 'n', 'h', 'q', 'z', 's', 'j', 'l', 'e', 'l', 'p', 'f', 'h', 'h', 'b', 'p', 'b', 'm', 'l', '.']\n",
            "['b', 'l', 'm', 'h', 'z', 'd', 'z', 'w', 'e', 'f', 'z', 'd', 'i', '.']\n",
            "['s', 'z', 'y', 'm', 'l', 'x', 'm', 'l', 'p', 'g', 'z', 'w', 'l', 'r', 'o', 'w', 'o', '.']\n",
            "['j', 'n', 'v', 'h', 'h', 'l', 'k', 'j', 'f', 'y', '.']\n",
            "['s', 'z', 'w', 'w', 'a', 'o', 'e', 'p', 'q', 't', 'w', 'c', 'h', 'z', 'q', 'd', 'w', 'p', 'r', 'k', 'r', 'g', 'o', 'h', 'l', 'k', 'v', 'u', 'l', 'n', 'f', 's', 'u', 'p', 'h', 'g', 'd', 'j', 'v', 'k', 'l', 'p', 'a', 'z', 'q', 'f', 'l', 'e', 'k', 'f', 'a', 'o', 'q', 'z', 's', 'f', 's', 'u', 'r', 'y', 'y', '.']\n",
            "['t', 'j', 'c', 'x', 'b', 'u', 'p', 'c', 'h', 's', 'x', 't', 's', 'x', 'm', 'h', 'k', 'g', 'r', 'i', 'f', 'o', 'j', 'v', 'v', 'b', 'c', 'h', 'm', 'n', 'w', 'e', 'z', 'e', 'a', 's', 'z', 'q', 'h', 's', 'u', 'p', 'a', 'k', 'f', 'h', 'p', 'n', 'c', 'g', 'g', 'b', 'z', 'g', 'i', 't', 'h', 'l', 'd', 'a', 's', 'd', 'e', 'i', 's', 'm', 'i', 'e', 'z', 'u', 'q', 'h', 'm', 'v', 't', 'd', 'x', 'o', 'r', 'o', 'i', 'd', 'w', 'm', 'o', 'r', 'o', 'c', 'a', 'n', 'y', '.']\n",
            "['o', 'k', 'f', 'z', 'o', 'r', 'o', 'q', 'd', 'a', 'h', 'p', 'c', 'u', 'u', 'p', 'z', 'y', 't', 'w', 'a', 'p', 'f', 'r', 'h', 'n', 'e', 'p', 'g', 's', 'u', 'h', 'm', 'l', 'm', 'i', 'y', '.']\n",
            "['o', 'r', 'v', 'z', 'f', 'z', 'f', 'r', 'u', 'f', 'r', 'q', 'd', 'q', 'u', 'a', 'n', 'n', 'p', 'p', 'f', 'j', 'a', 'k', '.']\n",
            "['o', 'e', 'v', 'v', 'w', '.']\n",
            "['p', 'q', 'd', 'c', 'c', 'p', 'w', 'e', 'y', '.']\n",
            "['t', 'w', 'i', 'f', 'z', 't', 's', 'c', 'e', 'e', 'g', 'i', 'm', 'y', '.']\n",
            "['d', 'a', '.']\n",
            "['o', 'v', 'h', 'n', 'w', 'i', 't', 'p', 'a', 'e', 'h', 'k', 'x', 'c', 'e', 'w', 'o', 'u', 'r', 'h', 'i', 'y', '.']\n",
            "['o', 't', 'j', 'o', 'f', 'o', 'x', 'e', 'q', 'a', 'i', 'a', 'n', 'e', 'i', 'b', '.']\n",
            "['y', 'y', 'x', 'l', 'f', 'j', 'y', 'b', 'p', 'h', 'l', 'm', 'e', 's', 'j', 'k', 'r', 'y', '.']\n",
            "['z', 'n', 'w', 'f', 'o', 'r', 'k', 'u', 'i', 'h', 'n', 'c', 'o', 'r', 'p', 'c', 'v', 'b', 'w', 'm', 'f', 'o', 'j', 'y', 't', 'q', 'd', 'i', 'l', 'm', 'l', 'b', 'q', 's', 'h', 'l', 'n', 'q', 'g', 'f', 'r', 'o', 'v', 'c', 'f', 'r', 'g', 't', 'u', 'p', 'o', 'q', 't', 'q', 'z', 'f', 'e', 'k', 'y', 'v', 'h', 'k', 'n', 'j', 'y', 'f', 'k', 'f', 'o', 'v', 'k', 'x', 'r', 'a', 'n', 'r', 'o', 'a', 's', 'w', 'v', 'w', 'a', 'l', 'd', 'a', 'e', 'j', 'y', '.']\n",
            "['b', 'r', 'j', 'y', 'g', 't', 'p', 'f', 's', 'w', 't', 'z', 'y', '.']\n",
            "['y', 'x', 's', 'w', 'u', 'p', 'c', 'b', '.']\n",
            "['g', 'y', 'm', 'x', 'r', 'h', 'l', 'e', 'b', 'j', 'y', 'o', 'c', 'h', 'v', 'i', 'j', 'y', 'x', 'm', 'y', 't', 'j', 'd', 'w', 'y', 'k', 'r', 'e', 'p', 'a', 'h', 'h', 'p', 's', 'y', 'r', 'v', 'k', 'f', 'e', 'h', 'l', 'e', 'k', 'g', 'o', 'd', 'o', 'o', 'i', 's', 'u', 'p', 'c', '.']\n",
            "['q', '.']\n",
            "['j', 'n', 'm', 'b', 'b', 'w', '.']\n",
            "['d', 'j', 't', 'p', 'i', '.']\n",
            "['h', 'z', 'y', 'r', 'h', 'r', 'f', 'z', 'x', 'c', 'h', 'p', 'c', 'g', 'f', 'i', 'b', '.']\n",
            "['z', 's', 'p', 'c', 'h', 'q', 't', 'e', 'k', 'm', 'w', 'a', 'n', 'p', 'r', 'g', 'd', 'a', 'n', 'e', 'a', 'd', 'i', 'd', 'a', 'k', 'x', 'n', 'n', 'y', 'h', 'h', 'a', 'k', 'm', 'n', 'p', 't', 'z', 'y', 's', 'h', 'h', 'f', 'i', 'f', 'k', 'g', 'g', 'a', 'n', 'x', 'c', 'u', 'p', 'f', 'o', 'q', 'd', 'w', 'e', 'o', 'a', 'n', 's', 'u', 'r', 'u', 'u', 'p', 'i', 'z', 'y', '.']\n",
            "['k', 'm', 'l', 'g', 'i', 'k', 'r', 'o', 'p', 'n', 'c', 'h', 'm', 'a', 'o', 'r', 'g', 'i', 'd', 's', 'g', 'i', 'd', 'i', 'f', 'l', 'd', 'a', 'n', 'y', '.']\n",
            "['d', 'x', 'm', 'w', 'v', 'p', 'f', '.']\n",
            "['o', 'e', 'e', 'j', 'v', 'g', 'c', 'b', 'b', 'y', '.']\n",
            "['n', 'c', 'f', 'z', 't', '.']\n",
            "['z', 'y', 'x', 'c', 'h', 'v', 'k', 'v', 'e', 'i', '.']\n"
          ]
        }
      ]
    },
    {
      "cell_type": "code",
      "source": [],
      "metadata": {
        "id": "QwZ1wC1n2gND"
      },
      "execution_count": 12,
      "outputs": []
    }
  ]
}